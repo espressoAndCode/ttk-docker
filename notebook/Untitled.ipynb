{
 "cells": [
  {
   "cell_type": "markdown",
   "metadata": {},
   "source": [
    "# Simplified Contour Trees with TTK\n",
    "(with ray tracing)"
   ]
  },
  {
   "cell_type": "code",
   "execution_count": 1,
   "metadata": {},
   "outputs": [],
   "source": [
    "from paraview.simple import *\n",
    "from ipyparaview.widgets import PVDisplay"
   ]
  },
  {
   "cell_type": "markdown",
   "metadata": {},
   "source": [
    "First, let's load a geometry model and compute its height function."
   ]
  },
  {
   "cell_type": "code",
   "execution_count": 2,
   "metadata": {},
   "outputs": [],
   "source": [
    "# load a geometry model\n",
    "model = XMLUnstructuredGridReader(FileName=['/data/dragon.vtu'])\n",
    "\n",
    "# run an elevation filter\n",
    "elevation = Elevation(Input=model)\n",
    "elevation.LowPoint =  [0, -50, 0]\n",
    "elevation.HighPoint = [0,  50, 0]"
   ]
  },
  {
   "cell_type": "markdown",
   "metadata": {},
   "source": [
    "Next, create a view to render the model only. For additional fanciness, turn on ray tracing and shadows."
   ]
  },
  {
   "cell_type": "code",
   "execution_count": 3,
   "metadata": {
    "scrolled": false
   },
   "outputs": [
    {
     "data": {
      "application/vnd.jupyter.widget-view+json": {
       "model_id": "fad0829ff04c43ae9a913f52127337ca",
       "version_major": 2,
       "version_minor": 0
      },
      "text/plain": [
       "PVDisplay(resolution=(600, 400))"
      ]
     },
     "metadata": {},
     "output_type": "display_data"
    }
   ],
   "source": [
    "def make_view():\n",
    "    '''helper function to create and configure a view'''\n",
    "    view = CreateView('RenderView')\n",
    "    view.ViewSize = (600, 400)\n",
    "    view.Background = [1, 1, 1]\n",
    "    view.EnableRayTracing = True\n",
    "    view.Shadows = True\n",
    "    view.EnableRenderOnInteraction = False\n",
    "    \n",
    "    return view\n",
    "\n",
    "view = make_view()\n",
    "    \n",
    "Show(elevation, view)\n",
    "ResetCamera(view)\n",
    "display(PVDisplay(view))"
   ]
  },
  {
   "cell_type": "code",
   "execution_count": 4,
   "metadata": {},
   "outputs": [],
   "source": [
    "# compute the persistence diagram ...\n",
    "persdiag = TTKPersistenceDiagram(Input=elevation)\n",
    "persdiag.ScalarField = ['POINTS', 'Elevation']\n",
    "persdiag.InputOffsetField = ['POINTS', 'Elevation']\n",
    "persdiag.EmbedinDomain = 1\n",
    "\n",
    "# ... and filter non-persistent pairs ...\n",
    "threshold = Threshold(Input=persdiag)\n",
    "threshold.Scalars = ['CELLS', 'Persistence']\n",
    "threshold.ThresholdRange = [0.1, 1.0]\n",
    "\n",
    "# which serve as constaint to simplify the function\n",
    "simplified = TTKTopologicalSimplification( Domain=elevation, Constraints=threshold )\n",
    "simplified.ScalarField = ['POINTS', 'Elevation']\n",
    "simplified.InputOffsetField = ['POINTS', 'Elevation']\n",
    "simplified.VertexIdentifierField = ['POINTS', 'Birth']\n",
    "simplified.OutputOffsetScalarField = ''\n",
    "\n",
    "# finally, compute the contour tree of the simplified function\n",
    "mctftm = TTKMergeandContourTreeFTM(Input=simplified)\n",
    "mctftm.ScalarField = ['POINTS', 'Elevation']\n",
    "mctftm.InputOffsetField = ['POINTS', 'Elevation']\n",
    "\n",
    "# turn critical points (contour tree vertices) into spheres\n",
    "# for better visibility\n",
    "critpts = TTKIcospheresFromPoints(Input=mctftm)\n",
    "critpts.Subdivisions = 2\n",
    "critpts.Radius = 5.0"
   ]
  },
  {
   "cell_type": "code",
   "execution_count": null,
   "metadata": {
    "scrolled": false
   },
   "outputs": [],
   "source": [
    "# create a second view to show the simplified tree\n",
    "view2 = CreateView('RenderView')\n",
    "view2.ViewSize = (800,300)\n",
    "view2.EnableRayTracing = True\n",
    "view2.Shadows = True\n",
    "\n",
    "Show(critpts, view2)\n",
    "Show(threshold, view2)\n",
    "Show(model, view2).Opacity = 0.2\n",
    "\n",
    "ResetCamera(view2)\n",
    "\n",
    "disp = PVDisplay(view2)\n",
    "display(disp)"
   ]
  },
  {
   "cell_type": "code",
   "execution_count": null,
   "metadata": {},
   "outputs": [],
   "source": [
    "# Interact from ipywidgets offers us a simple way to interactively control values with a callback function\n",
    "from ipywidgets import interact\n",
    "\n",
    "# sets the isosurface value, triggers a pipeline update, and renders the result\n",
    "@interact(min=0.0, max=1.0)\n",
    "def setThreshold(thresh=0.1):\n",
    "    threshold.ThresholdRange = [thresh, 1.0]"
   ]
  }
 ],
 "metadata": {
  "kernelspec": {
   "display_name": "Python 3",
   "language": "python",
   "name": "python3"
  },
  "language_info": {
   "codemirror_mode": {
    "name": "ipython",
    "version": 3
   },
   "file_extension": ".py",
   "mimetype": "text/x-python",
   "name": "python",
   "nbconvert_exporter": "python",
   "pygments_lexer": "ipython3",
   "version": "3.8.2"
  }
 },
 "nbformat": 4,
 "nbformat_minor": 4
}
